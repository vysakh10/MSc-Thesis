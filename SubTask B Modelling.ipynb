{
 "cells": [
  {
   "cell_type": "markdown",
   "id": "d60dd7a4",
   "metadata": {},
   "source": [
    "# <center> SubTask B: Answer Classification </center>"
   ]
  },
  {
   "cell_type": "markdown",
   "id": "dea9df5f",
   "metadata": {},
   "source": [
    "This subtask focuses on classifying the given answers into 3 categories : Non-Factual, Factual-True and Factual-False."
   ]
  },
  {
   "cell_type": "markdown",
   "id": "08da2f16",
   "metadata": {},
   "source": [
    "This work tries to find out whether adding user and length information improves model performance or not."
   ]
  },
  {
   "cell_type": "markdown",
   "id": "a08d2270",
   "metadata": {},
   "source": [
    "### Importing Required Libraries"
   ]
  },
  {
   "cell_type": "code",
   "execution_count": 1,
   "id": "ffa8d0fb",
   "metadata": {},
   "outputs": [],
   "source": [
    "import numpy as np\n",
    "import pandas as pd\n",
    "import matplotlib.pyplot as plt\n",
    "import seaborn as sns\n",
    "import tensorflow as tf\n",
    "import tensorflow_hub as hub\n",
    "from tensorflow.keras.layers import Input, Dense, Dropout\n",
    "from tensorflow.keras.models import Model\n",
    "import warnings\n",
    "warnings.filterwarnings(\"ignore\")\n",
    "from sklearn.model_selection import train_test_split\n",
    "from sklearn.linear_model import SGDClassifier\n",
    "from sklearn.metrics import f1_score, accuracy_score, confusion_matrix\n",
    "from sklearn.linear_model import SGDClassifier\n",
    "import xgboost as xgb\n",
    "from category_encoders import TargetEncoder\n",
    "from sklearn.preprocessing import StandardScaler, OneHotEncoder\n",
    "import tokenization"
   ]
  },
  {
   "cell_type": "code",
   "execution_count": 2,
   "id": "1d44a381",
   "metadata": {},
   "outputs": [],
   "source": [
    "train = pd.read_csv('Answers_Train.csv')\n",
    "cv = pd.read_csv('Answers_Dev.csv')\n",
    "test = pd.read_csv('Answers_Test.csv')"
   ]
  },
  {
   "cell_type": "code",
   "execution_count": 3,
   "id": "0e7c8e18",
   "metadata": {},
   "outputs": [
    {
     "data": {
      "text/plain": [
       "Thread Sequence      0\n",
       "Question Label       0\n",
       "Question Subject     0\n",
       "Question Body       38\n",
       "Answer               0\n",
       "Answer Label         0\n",
       "UserID               0\n",
       "dtype: int64"
      ]
     },
     "execution_count": 3,
     "metadata": {},
     "output_type": "execute_result"
    }
   ],
   "source": [
    "train.isnull().sum() # checking for null values"
   ]
  },
  {
   "cell_type": "code",
   "execution_count": 4,
   "id": "3c5970eb",
   "metadata": {},
   "outputs": [],
   "source": [
    "# dropping null data\n",
    "train.drop('Question Body', axis = 1, inplace = True)\n",
    "cv.drop('Question Body', axis = 1, inplace = True)"
   ]
  },
  {
   "cell_type": "code",
   "execution_count": 5,
   "id": "b779a437",
   "metadata": {},
   "outputs": [
    {
     "data": {
      "text/html": [
       "<div>\n",
       "<style scoped>\n",
       "    .dataframe tbody tr th:only-of-type {\n",
       "        vertical-align: middle;\n",
       "    }\n",
       "\n",
       "    .dataframe tbody tr th {\n",
       "        vertical-align: top;\n",
       "    }\n",
       "\n",
       "    .dataframe thead th {\n",
       "        text-align: right;\n",
       "    }\n",
       "</style>\n",
       "<table border=\"1\" class=\"dataframe\">\n",
       "  <thead>\n",
       "    <tr style=\"text-align: right;\">\n",
       "      <th></th>\n",
       "      <th>Thread Sequence</th>\n",
       "      <th>Question Label</th>\n",
       "      <th>Question Subject</th>\n",
       "      <th>Answer</th>\n",
       "      <th>Answer Label</th>\n",
       "      <th>UserID</th>\n",
       "    </tr>\n",
       "  </thead>\n",
       "  <tbody>\n",
       "    <tr>\n",
       "      <th>0</th>\n",
       "      <td>Q272_R51</td>\n",
       "      <td>Factual</td>\n",
       "      <td>Qatar petroleum technical site interview?</td>\n",
       "      <td>If you have been invited for interview in Doha...</td>\n",
       "      <td>NonFactual</td>\n",
       "      <td>U178</td>\n",
       "    </tr>\n",
       "    <tr>\n",
       "      <th>1</th>\n",
       "      <td>Q272_R51</td>\n",
       "      <td>Factual</td>\n",
       "      <td>Qatar petroleum technical site interview?</td>\n",
       "      <td>the interviewing department will endorse their...</td>\n",
       "      <td>NonFactual</td>\n",
       "      <td>U459</td>\n",
       "    </tr>\n",
       "    <tr>\n",
       "      <th>2</th>\n",
       "      <td>Q273_R39</td>\n",
       "      <td>Factual</td>\n",
       "      <td>Vaccinations needed before i come to Doha?</td>\n",
       "      <td>Yes there are; though it varies depending on w...</td>\n",
       "      <td>True</td>\n",
       "      <td>U429</td>\n",
       "    </tr>\n",
       "    <tr>\n",
       "      <th>3</th>\n",
       "      <td>Q273_R39</td>\n",
       "      <td>Factual</td>\n",
       "      <td>Vaccinations needed before i come to Doha?</td>\n",
       "      <td>I suggest going to visit your local GP and men...</td>\n",
       "      <td>True</td>\n",
       "      <td>U1199</td>\n",
       "    </tr>\n",
       "    <tr>\n",
       "      <th>4</th>\n",
       "      <td>Q273_R39</td>\n",
       "      <td>Factual</td>\n",
       "      <td>Vaccinations needed before i come to Doha?</td>\n",
       "      <td>It depends what you have had already. You don'...</td>\n",
       "      <td>True</td>\n",
       "      <td>U237</td>\n",
       "    </tr>\n",
       "  </tbody>\n",
       "</table>\n",
       "</div>"
      ],
      "text/plain": [
       "  Thread Sequence Question Label                            Question Subject  \\\n",
       "0        Q272_R51        Factual   Qatar petroleum technical site interview?   \n",
       "1        Q272_R51        Factual   Qatar petroleum technical site interview?   \n",
       "2        Q273_R39        Factual  Vaccinations needed before i come to Doha?   \n",
       "3        Q273_R39        Factual  Vaccinations needed before i come to Doha?   \n",
       "4        Q273_R39        Factual  Vaccinations needed before i come to Doha?   \n",
       "\n",
       "                                              Answer Answer Label UserID  \n",
       "0  If you have been invited for interview in Doha...   NonFactual   U178  \n",
       "1  the interviewing department will endorse their...   NonFactual   U459  \n",
       "2  Yes there are; though it varies depending on w...         True   U429  \n",
       "3  I suggest going to visit your local GP and men...         True  U1199  \n",
       "4  It depends what you have had already. You don'...         True   U237  "
      ]
     },
     "execution_count": 5,
     "metadata": {},
     "output_type": "execute_result"
    }
   ],
   "source": [
    "train.head()"
   ]
  },
  {
   "cell_type": "code",
   "execution_count": 6,
   "id": "3e94fec9",
   "metadata": {},
   "outputs": [
    {
     "data": {
      "text/plain": [
       "array(['NonFactual', 'True', 'False'], dtype=object)"
      ]
     },
     "execution_count": 6,
     "metadata": {},
     "output_type": "execute_result"
    }
   ],
   "source": [
    "train['Answer Label'].unique() # unique labels in the dataset"
   ]
  },
  {
   "cell_type": "code",
   "execution_count": 8,
   "id": "c03ba207",
   "metadata": {},
   "outputs": [],
   "source": [
    "def calc_char(x):\n",
    "    '''Function to calculate the length of each question'''\n",
    "    return len(x.split())\n",
    "\n",
    "train['Sentence_Length'] = train['Answer'].apply(lambda x: calc_char(x))\n",
    "cv['Sentence_Length'] = cv['Answer'].apply(lambda x: calc_char(x))\n",
    "test['Sentence_Length'] = test['Answer'].apply(lambda x: calc_char(x))"
   ]
  },
  {
   "cell_type": "code",
   "execution_count": 9,
   "id": "7d37936f",
   "metadata": {},
   "outputs": [],
   "source": [
    "# Mapping Label Values\n",
    "\n",
    "label_mapper = {'NonFactual':0, 'True':1, 'False':2}\n",
    "\n",
    "train['Answer Label'] = train['Answer Label'].map(label_mapper)\n",
    "cv['Answer Label'] = cv['Answer Label'].map(label_mapper)\n",
    "test['Answer Label'] = test['Answer Label'].map(label_mapper)"
   ]
  },
  {
   "cell_type": "code",
   "execution_count": 10,
   "id": "eb1037cf",
   "metadata": {},
   "outputs": [
    {
     "data": {
      "text/html": [
       "<div>\n",
       "<style scoped>\n",
       "    .dataframe tbody tr th:only-of-type {\n",
       "        vertical-align: middle;\n",
       "    }\n",
       "\n",
       "    .dataframe tbody tr th {\n",
       "        vertical-align: top;\n",
       "    }\n",
       "\n",
       "    .dataframe thead th {\n",
       "        text-align: right;\n",
       "    }\n",
       "</style>\n",
       "<table border=\"1\" class=\"dataframe\">\n",
       "  <thead>\n",
       "    <tr style=\"text-align: right;\">\n",
       "      <th></th>\n",
       "      <th>Thread Sequence</th>\n",
       "      <th>Question Label</th>\n",
       "      <th>Question Subject</th>\n",
       "      <th>Answer</th>\n",
       "      <th>Answer Label</th>\n",
       "      <th>UserID</th>\n",
       "      <th>Sentence_Length</th>\n",
       "    </tr>\n",
       "  </thead>\n",
       "  <tbody>\n",
       "    <tr>\n",
       "      <th>0</th>\n",
       "      <td>Q272_R51</td>\n",
       "      <td>Factual</td>\n",
       "      <td>Qatar petroleum technical site interview?</td>\n",
       "      <td>If you have been invited for interview in Doha...</td>\n",
       "      <td>0</td>\n",
       "      <td>U178</td>\n",
       "      <td>48</td>\n",
       "    </tr>\n",
       "    <tr>\n",
       "      <th>1</th>\n",
       "      <td>Q272_R51</td>\n",
       "      <td>Factual</td>\n",
       "      <td>Qatar petroleum technical site interview?</td>\n",
       "      <td>the interviewing department will endorse their...</td>\n",
       "      <td>0</td>\n",
       "      <td>U459</td>\n",
       "      <td>48</td>\n",
       "    </tr>\n",
       "    <tr>\n",
       "      <th>2</th>\n",
       "      <td>Q273_R39</td>\n",
       "      <td>Factual</td>\n",
       "      <td>Vaccinations needed before i come to Doha?</td>\n",
       "      <td>Yes there are; though it varies depending on w...</td>\n",
       "      <td>1</td>\n",
       "      <td>U429</td>\n",
       "      <td>39</td>\n",
       "    </tr>\n",
       "    <tr>\n",
       "      <th>3</th>\n",
       "      <td>Q273_R39</td>\n",
       "      <td>Factual</td>\n",
       "      <td>Vaccinations needed before i come to Doha?</td>\n",
       "      <td>I suggest going to visit your local GP and men...</td>\n",
       "      <td>1</td>\n",
       "      <td>U1199</td>\n",
       "      <td>42</td>\n",
       "    </tr>\n",
       "    <tr>\n",
       "      <th>4</th>\n",
       "      <td>Q273_R39</td>\n",
       "      <td>Factual</td>\n",
       "      <td>Vaccinations needed before i come to Doha?</td>\n",
       "      <td>It depends what you have had already. You don'...</td>\n",
       "      <td>1</td>\n",
       "      <td>U237</td>\n",
       "      <td>114</td>\n",
       "    </tr>\n",
       "  </tbody>\n",
       "</table>\n",
       "</div>"
      ],
      "text/plain": [
       "  Thread Sequence Question Label                            Question Subject  \\\n",
       "0        Q272_R51        Factual   Qatar petroleum technical site interview?   \n",
       "1        Q272_R51        Factual   Qatar petroleum technical site interview?   \n",
       "2        Q273_R39        Factual  Vaccinations needed before i come to Doha?   \n",
       "3        Q273_R39        Factual  Vaccinations needed before i come to Doha?   \n",
       "4        Q273_R39        Factual  Vaccinations needed before i come to Doha?   \n",
       "\n",
       "                                              Answer  Answer Label UserID  \\\n",
       "0  If you have been invited for interview in Doha...             0   U178   \n",
       "1  the interviewing department will endorse their...             0   U459   \n",
       "2  Yes there are; though it varies depending on w...             1   U429   \n",
       "3  I suggest going to visit your local GP and men...             1  U1199   \n",
       "4  It depends what you have had already. You don'...             1   U237   \n",
       "\n",
       "   Sentence_Length  \n",
       "0               48  \n",
       "1               48  \n",
       "2               39  \n",
       "3               42  \n",
       "4              114  "
      ]
     },
     "execution_count": 10,
     "metadata": {},
     "output_type": "execute_result"
    }
   ],
   "source": [
    "train.head() # sample data"
   ]
  },
  {
   "cell_type": "markdown",
   "id": "a00bbfd5",
   "metadata": {},
   "source": [
    "### Standard Scaling Sentence Length"
   ]
  },
  {
   "cell_type": "code",
   "execution_count": 11,
   "id": "4907408b",
   "metadata": {},
   "outputs": [],
   "source": [
    "ss = StandardScaler()\n",
    "\n",
    "train['Sentence_Length'] = ss.fit_transform(train['Sentence_Length'].values.reshape(-1, 1))\n",
    "cv['Sentence_Length'] = ss.transform(cv['Sentence_Length'].values.reshape(-1, 1))\n",
    "test['Sentence_Length'] = ss.transform(test['Sentence_Length'].values.reshape(-1, 1))"
   ]
  },
  {
   "cell_type": "markdown",
   "id": "ee2418dc",
   "metadata": {},
   "source": [
    "### Target Encoding User Information"
   ]
  },
  {
   "cell_type": "code",
   "execution_count": 12,
   "id": "c5eb1e86",
   "metadata": {},
   "outputs": [
    {
     "name": "stdout",
     "output_type": "stream",
     "text": [
      "Number of Unique users in the train set: 332\n"
     ]
    }
   ],
   "source": [
    "print('Number of Unique users in the train set:', train['UserID'].nunique())"
   ]
  },
  {
   "cell_type": "code",
   "execution_count": 13,
   "id": "b0dbbe18",
   "metadata": {},
   "outputs": [],
   "source": [
    "te = TargetEncoder()\n",
    "\n",
    "train_te_users = te.fit_transform(train['UserID'], train['Answer Label'])\n",
    "cv_te_users = te.transform(cv['UserID'])\n",
    "test_te_users = te.transform(test['UserID'])"
   ]
  },
  {
   "cell_type": "markdown",
   "id": "a7649421",
   "metadata": {},
   "source": [
    "## Modelling"
   ]
  },
  {
   "cell_type": "code",
   "execution_count": 14,
   "id": "2459cfda",
   "metadata": {},
   "outputs": [],
   "source": [
    "# GPU memory growth setter\n",
    "gpus = tf.config.experimental.list_physical_devices('GPU')\n",
    "for gpu in gpus:\n",
    "    tf.config.experimental.set_memory_growth(gpu, True)"
   ]
  },
  {
   "cell_type": "code",
   "execution_count": 15,
   "id": "50b223f8",
   "metadata": {},
   "outputs": [],
   "source": [
    "tfhub_handle_encoder = 'https://tfhub.dev/tensorflow/bert_en_uncased_L-12_H-768_A-12/3'\n",
    "encoder = hub.KerasLayer(tfhub_handle_encoder, trainable=False, name='BERT_encoder')"
   ]
  },
  {
   "cell_type": "code",
   "execution_count": 16,
   "id": "d256b71a",
   "metadata": {},
   "outputs": [],
   "source": [
    "vocab_file = encoder.resolved_object.vocab_file.asset_path.numpy()\n",
    "do_lower_case = encoder.resolved_object.do_lower_case.numpy()\n",
    "tokenizer = tokenization.FullTokenizer(vocab_file, do_lower_case)"
   ]
  },
  {
   "cell_type": "code",
   "execution_count": 17,
   "id": "bf4223a7",
   "metadata": {},
   "outputs": [],
   "source": [
    "def tokz(X, max_len):\n",
    "    '''Tokeinzer for BERT'''\n",
    "    X_mask = np.zeros((X.shape[0], max_len))\n",
    "    X_segment = np.zeros((X.shape[0], max_len))\n",
    "    X_tokens = np.zeros((X.shape[0], max_len))\n",
    "\n",
    "    for i in range(len(X)):\n",
    "        tokens = tokenizer.tokenize(X.values[i])\n",
    "        \n",
    "        if len(tokens) >= (max_len - 2):         # truncating\n",
    "            tokens = tokens[ 0 : (max_len-2)]\n",
    "            \n",
    "        tokens = ['[CLS]', *tokens, '[SEP]']\n",
    "        \n",
    "        mask = np.array([1] * len(tokens) + [0]*(max_len - len(tokens)))\n",
    "        \n",
    "        while(len(tokens) < max_len):           # padding\n",
    "            tokens.append('[PAD]')\n",
    "\n",
    "        tokens = np.array(tokenizer.convert_tokens_to_ids(tokens))\n",
    "        segment = np.array([0] * max_len)\n",
    "        \n",
    "        X_mask[i] = mask\n",
    "        X_segment[i] = segment\n",
    "        X_tokens[i] = tokens\n",
    "        \n",
    "    return X_tokens, X_mask, X_segment"
   ]
  },
  {
   "cell_type": "code",
   "execution_count": 18,
   "id": "94054094",
   "metadata": {},
   "outputs": [],
   "source": [
    "max_seq_length = 110 # Fixed sentence length for all answers\n",
    "\n",
    "train_tokens, train_mask, train_segment = tokz(train['Answer'], max_seq_length)\n",
    "\n",
    "cv_tokens, cv_mask, cv_segment = tokz(cv[\"Answer\"], max_seq_length)\n",
    "\n",
    "test_tokens, test_mask, test_segment = tokz(test[\"Answer\"], max_seq_length)"
   ]
  },
  {
   "cell_type": "code",
   "execution_count": 20,
   "id": "74b9614a",
   "metadata": {},
   "outputs": [],
   "source": [
    "# one hot encoding all labels\n",
    "ohe = OneHotEncoder()\n",
    "\n",
    "y_train_ohe = ohe.fit_transform(train['Answer Label'].values.reshape(-1,1)).toarray()\n",
    "y_cv_ohe = ohe.transform(cv['Answer Label'].values.reshape(-1,1)).toarray()\n",
    "y_test_ohe = ohe.transform(test['Answer Label'].values.reshape(-1,1)).toarray()"
   ]
  },
  {
   "cell_type": "code",
   "execution_count": 21,
   "id": "b39e12c3",
   "metadata": {},
   "outputs": [],
   "source": [
    "n_labels = train['Answer Label'].nunique()"
   ]
  },
  {
   "cell_type": "markdown",
   "id": "7a168a66",
   "metadata": {},
   "source": [
    "## BERT Model without User Info"
   ]
  },
  {
   "cell_type": "code",
   "execution_count": 22,
   "id": "9f0936e3",
   "metadata": {},
   "outputs": [],
   "source": [
    "#BERT takes 3 inputs\n",
    "#this is input words. Sequence of words represented as integers\n",
    "\n",
    "input_word_ids = tf.keras.layers.Input(shape=(max_seq_length,), dtype=tf.int32, name=\"input_word_ids\")\n",
    "\n",
    "#mask vector if you are padding anything\n",
    "input_mask = tf.keras.layers.Input(shape=(max_seq_length,), dtype=tf.int32, name=\"input_mask\")\n",
    "\n",
    "#segment vectors. If you are giving only one sentence for the classification, total seg vector is 0. \n",
    "#If you are giving two sentenced with [sep] token separated, first seq segment vectors are zeros and \n",
    "#second seq segment vector are 1's\n",
    "segment_ids = tf.keras.layers.Input(shape=(max_seq_length,), dtype=tf.int32, name=\"segment_ids\")\n",
    "\n",
    "#bert layer \n",
    "bert_layer = hub.KerasLayer(\"https://tfhub.dev/tensorflow/bert_en_uncased_L-12_H-768_A-12/1\", trainable=True)\n",
    "pooled_output, sequence_output = bert_layer([input_word_ids, input_mask, segment_ids])\n",
    "\n",
    "densep = tf.keras.layers.Dense(768, activation='relu', \n",
    "                               kernel_initializer = tf.keras.initializers.he_normal(seed=42))(pooled_output)\n",
    "output_ = tf.keras.layers.Dense(n_labels,activation = 'softmax')(densep)\n",
    "\n",
    "bert_model = Model(inputs=[input_word_ids, input_mask, segment_ids], outputs=output_)"
   ]
  },
  {
   "cell_type": "code",
   "execution_count": 23,
   "id": "d4091285",
   "metadata": {},
   "outputs": [
    {
     "data": {
      "image/png": "[encoded data removed]",
      "text/plain": [
       "<IPython.core.display.Image object>"
      ]
     },
     "execution_count": 23,
     "metadata": {},
     "output_type": "execute_result"
    }
   ],
   "source": [
    "tf.keras.utils.plot_model(bert_model)"
   ]
  },
  {
   "cell_type": "code",
   "execution_count": 24,
   "id": "2c8325b4",
   "metadata": {},
   "outputs": [
    {
     "name": "stdout",
     "output_type": "stream",
     "text": [
      "Model: \"model\"\n",
      "__________________________________________________________________________________________________\n",
      "Layer (type)                    Output Shape         Param #     Connected to                     \n",
      "==================================================================================================\n",
      "input_word_ids (InputLayer)     [(None, 110)]        0                                            \n",
      "__________________________________________________________________________________________________\n",
      "input_mask (InputLayer)         [(None, 110)]        0                                            \n",
      "__________________________________________________________________________________________________\n",
      "segment_ids (InputLayer)        [(None, 110)]        0                                            \n",
      "__________________________________________________________________________________________________\n",
      "keras_layer (KerasLayer)        [(None, 768), (None, 109482241   input_word_ids[0][0]             \n",
      "                                                                 input_mask[0][0]                 \n",
      "                                                                 segment_ids[0][0]                \n",
      "__________________________________________________________________________________________________\n",
      "dense (Dense)                   (None, 768)          590592      keras_layer[0][0]                \n",
      "__________________________________________________________________________________________________\n",
      "dense_1 (Dense)                 (None, 3)            2307        dense[0][0]                      \n",
      "==================================================================================================\n",
      "Total params: 110,075,140\n",
      "Trainable params: 110,075,139\n",
      "Non-trainable params: 1\n",
      "__________________________________________________________________________________________________\n"
     ]
    }
   ],
   "source": [
    "bert_model.summary()"
   ]
  },
  {
   "cell_type": "code",
   "execution_count": 25,
   "id": "6b547443",
   "metadata": {},
   "outputs": [],
   "source": [
    "opt = tf.keras.optimizers.Adam(0.00001)\n",
    "bert_model.compile(opt, 'categorical_crossentropy')"
   ]
  },
  {
   "cell_type": "code",
   "execution_count": 26,
   "id": "1a02aaf5",
   "metadata": {},
   "outputs": [
    {
     "name": "stdout",
     "output_type": "stream",
     "text": [
      "Epoch 1/20\n",
      "31/31 [==============================] - 27s 507ms/step - loss: 1.1255 - val_loss: 1.0724\n",
      "Epoch 2/20\n",
      "31/31 [==============================] - 14s 450ms/step - loss: 0.9958 - val_loss: 1.0600\n",
      "Epoch 3/20\n",
      "31/31 [==============================] - 14s 446ms/step - loss: 0.8203 - val_loss: 1.0710\n",
      "Epoch 4/20\n",
      "31/31 [==============================] - 14s 449ms/step - loss: 0.5476 - val_loss: 1.1855\n",
      "Epoch 5/20\n",
      "31/31 [==============================] - 14s 447ms/step - loss: 0.2912 - val_loss: 1.2870\n",
      "Epoch 6/20\n",
      "31/31 [==============================] - 14s 447ms/step - loss: 0.1596 - val_loss: 1.5117\n",
      "Epoch 7/20\n",
      "31/31 [==============================] - 14s 449ms/step - loss: 0.0929 - val_loss: 1.5600\n",
      "Epoch 8/20\n",
      "31/31 [==============================] - 14s 446ms/step - loss: 0.0392 - val_loss: 1.7545\n",
      "Epoch 9/20\n",
      "31/31 [==============================] - 14s 446ms/step - loss: 0.0269 - val_loss: 1.6644\n",
      "Epoch 10/20\n",
      "31/31 [==============================] - 14s 458ms/step - loss: 0.0181 - val_loss: 1.8449\n",
      "Epoch 11/20\n",
      "31/31 [==============================] - 14s 446ms/step - loss: 0.0191 - val_loss: 1.8420\n",
      "Epoch 12/20\n",
      "31/31 [==============================] - 14s 446ms/step - loss: 0.0165 - val_loss: 1.8997\n",
      "Epoch 13/20\n",
      "31/31 [==============================] - 14s 447ms/step - loss: 0.0134 - val_loss: 1.9882\n",
      "Epoch 14/20\n",
      "31/31 [==============================] - 14s 449ms/step - loss: 0.0161 - val_loss: 1.9395\n",
      "Epoch 15/20\n",
      "31/31 [==============================] - 14s 447ms/step - loss: 0.0100 - val_loss: 2.0333\n",
      "Epoch 16/20\n",
      "31/31 [==============================] - 14s 448ms/step - loss: 0.0167 - val_loss: 1.9680\n",
      "Epoch 17/20\n",
      "31/31 [==============================] - 14s 448ms/step - loss: 0.0059 - val_loss: 2.0578\n",
      "Epoch 18/20\n",
      "31/31 [==============================] - 14s 448ms/step - loss: 0.0075 - val_loss: 2.0864\n",
      "Epoch 19/20\n",
      "31/31 [==============================] - 14s 448ms/step - loss: 0.0112 - val_loss: 2.1448\n",
      "Epoch 20/20\n",
      "31/31 [==============================] - 14s 446ms/step - loss: 0.0107 - val_loss: 2.1071\n"
     ]
    }
   ],
   "source": [
    "history = bert_model.fit(x = [train_tokens, train_mask ,train_segment], y = y_train_ohe, epochs = 20, \n",
    "                         batch_size = 16, verbose = 1, validation_data = ([cv_tokens, cv_mask ,cv_segment], y_cv_ohe))"
   ]
  },
  {
   "cell_type": "code",
   "execution_count": 27,
   "id": "4b8cba20",
   "metadata": {},
   "outputs": [],
   "source": [
    "# predicting probabilities\n",
    "train_pred = bert_model.predict([train_tokens, train_mask ,train_segment])\n",
    "cv_pred = bert_model.predict([cv_tokens, cv_mask ,cv_segment])\n",
    "test_pred = bert_model.predict([test_tokens, test_mask ,test_segment])"
   ]
  },
  {
   "cell_type": "code",
   "execution_count": 28,
   "id": "a96fd25d",
   "metadata": {},
   "outputs": [],
   "source": [
    "# converting probabilities to labels\n",
    "train_pred_final = []\n",
    "for i in range(len(train)):\n",
    "    train_pred_final.append(np.argmax(train_pred[i]))\n",
    "    \n",
    "cv_pred_final = []\n",
    "for i in range(len(cv)):\n",
    "    cv_pred_final.append(np.argmax(cv_pred[i]))\n",
    "    \n",
    "test_pred_final = []\n",
    "for i in range(len(test)):\n",
    "    test_pred_final.append(np.argmax(test_pred[i]))"
   ]
  },
  {
   "cell_type": "code",
   "execution_count": 29,
   "id": "9c2e2cc9",
   "metadata": {},
   "outputs": [
    {
     "name": "stdout",
     "output_type": "stream",
     "text": [
      "Train Set Accuracy:  99.6 %\n",
      "Dev Set Accuracy:  42.86 %\n",
      "Test Set Accuracy:  50.32 %\n"
     ]
    }
   ],
   "source": [
    "print(\"Train Set Accuracy: \",np.round(accuracy_score(train['Answer Label'], train_pred_final)*100, 2), \"%\")\n",
    "print(\"Dev Set Accuracy: \",np.round(accuracy_score(cv['Answer Label'], cv_pred_final)*100, 2), \"%\")\n",
    "print(\"Test Set Accuracy: \",np.round(accuracy_score(test['Answer Label'], test_pred_final)*100, 2), \"%\")"
   ]
  },
  {
   "cell_type": "code",
   "execution_count": 28,
   "id": "ae017198",
   "metadata": {},
   "outputs": [
    {
     "name": "stdout",
     "output_type": "stream",
     "text": [
      "Train Set Accuracy:  99.6 %\n",
      "Dev Set Accuracy:  41.96 %\n",
      "Test Set Accuracy:  61.61 %\n"
     ]
    }
   ],
   "source": [
    "print(\"Train Set Accuracy: \",np.round(accuracy_score(train['Answer Label'], train_pred_final)*100, 2), \"%\")\n",
    "print(\"Dev Set Accuracy: \",np.round(accuracy_score(cv['Answer Label'], cv_pred_final)*100, 2), \"%\")\n",
    "print(\"Test Set Accuracy: \",np.round(accuracy_score(test['Answer Label'], test_pred_final)*100, 2), \"%\")"
   ]
  },
  {
   "cell_type": "code",
   "execution_count": 29,
   "id": "e8de53ed",
   "metadata": {},
   "outputs": [
    {
     "name": "stdout",
     "output_type": "stream",
     "text": [
      "Train Set F1-Score:  1.0\n",
      "Dev Set F1-Score:  0.36\n",
      "Test Set F1-Score:  0.38\n"
     ]
    }
   ],
   "source": [
    "print(\"Train Set F1-Score: \",np.round(f1_score(train['Answer Label'], train_pred_final, average='macro'), 2))\n",
    "print(\"Dev Set F1-Score: \",np.round(f1_score(cv['Answer Label'], cv_pred_final, average='macro'), 2))\n",
    "print(\"Test Set F1-Score: \",np.round(f1_score(test['Answer Label'], test_pred_final, average='macro'), 2))"
   ]
  },
  {
   "cell_type": "markdown",
   "id": "052519bb",
   "metadata": {},
   "source": [
    "## BERT Model with User Info"
   ]
  },
  {
   "cell_type": "code",
   "execution_count": 22,
   "id": "ad4bc97e",
   "metadata": {},
   "outputs": [],
   "source": [
    "#BERT takes 3 inputs\n",
    "#this is input words. Sequence of words represented as integers\n",
    "input_user = tf.keras.layers.Input(shape = (1,))\n",
    "\n",
    "input_word_ids = tf.keras.layers.Input(shape=(max_seq_length,), dtype=tf.int32, name=\"input_word_ids\")\n",
    "\n",
    "#mask vector if you are padding anything\n",
    "input_mask = tf.keras.layers.Input(shape=(max_seq_length,), dtype=tf.int32, name=\"input_mask\")\n",
    "\n",
    "#segment vectors. If you are giving only one sentence for the classification, total seg vector is 0. \n",
    "#If you are giving two sentenced with [sep] token separated, first seq segment vectors are zeros and \n",
    "#second seq segment vector are 1's\n",
    "segment_ids = tf.keras.layers.Input(shape=(max_seq_length,), dtype=tf.int32, name=\"segment_ids\")\n",
    "\n",
    "#bert layer \n",
    "bert_layer = hub.KerasLayer(\"https://tfhub.dev/tensorflow/bert_en_uncased_L-12_H-768_A-12/1\", trainable=True)\n",
    "pooled_output, sequence_output = bert_layer([input_word_ids, input_mask, segment_ids])\n",
    "\n",
    "densep = tf.keras.layers.Dense(768, activation='relu', \n",
    "                               kernel_initializer = tf.keras.initializers.he_normal(seed=42))(pooled_output)\n",
    "#print(densep.shape)\n",
    "\n",
    "dense1 = tf.keras.layers.Dense(768, activation='relu', \n",
    "                               kernel_initializer = tf.keras.initializers.he_normal(seed=42))(input_user)\n",
    "#print(dense1.shape)\n",
    "add = tf.keras.layers.Add()([densep, dense1])\n",
    "#print(add.shape)\n",
    "dense2 = tf.keras.layers.Dense(512, activation='relu', \n",
    "                               kernel_initializer = tf.keras.initializers.he_normal(seed=421))(add)\n",
    "\n",
    "output_ = tf.keras.layers.Dense(n_labels,activation = 'softmax')(dense2)\n",
    "\n",
    "bert_model = Model(inputs=[[input_word_ids, input_mask, segment_ids], input_user], outputs=output_)"
   ]
  },
  {
   "cell_type": "code",
   "execution_count": 23,
   "id": "7504e682",
   "metadata": {},
   "outputs": [
    {
     "name": "stdout",
     "output_type": "stream",
     "text": [
      "Model: \"model\"\n",
      "__________________________________________________________________________________________________\n",
      "Layer (type)                    Output Shape         Param #     Connected to                     \n",
      "==================================================================================================\n",
      "input_word_ids (InputLayer)     [(None, 110)]        0                                            \n",
      "__________________________________________________________________________________________________\n",
      "input_mask (InputLayer)         [(None, 110)]        0                                            \n",
      "__________________________________________________________________________________________________\n",
      "segment_ids (InputLayer)        [(None, 110)]        0                                            \n",
      "__________________________________________________________________________________________________\n",
      "keras_layer (KerasLayer)        [(None, 768), (None, 109482241   input_word_ids[0][0]             \n",
      "                                                                 input_mask[0][0]                 \n",
      "                                                                 segment_ids[0][0]                \n",
      "__________________________________________________________________________________________________\n",
      "input_1 (InputLayer)            [(None, 1)]          0                                            \n",
      "__________________________________________________________________________________________________\n",
      "dense (Dense)                   (None, 768)          590592      keras_layer[0][0]                \n",
      "__________________________________________________________________________________________________\n",
      "dense_1 (Dense)                 (None, 768)          1536        input_1[0][0]                    \n",
      "__________________________________________________________________________________________________\n",
      "add (Add)                       (None, 768)          0           dense[0][0]                      \n",
      "                                                                 dense_1[0][0]                    \n",
      "__________________________________________________________________________________________________\n",
      "dense_2 (Dense)                 (None, 512)          393728      add[0][0]                        \n",
      "__________________________________________________________________________________________________\n",
      "dense_3 (Dense)                 (None, 3)            1539        dense_2[0][0]                    \n",
      "==================================================================================================\n",
      "Total params: 110,469,636\n",
      "Trainable params: 110,469,635\n",
      "Non-trainable params: 1\n",
      "__________________________________________________________________________________________________\n"
     ]
    }
   ],
   "source": [
    "bert_model.summary()"
   ]
  },
  {
   "cell_type": "code",
   "execution_count": 24,
   "id": "8f32110c",
   "metadata": {},
   "outputs": [],
   "source": [
    "opt = tf.keras.optimizers.Adam(0.00001)\n",
    "bert_model.compile(opt, 'categorical_crossentropy')"
   ]
  },
  {
   "cell_type": "code",
   "execution_count": 25,
   "id": "c095a02c",
   "metadata": {},
   "outputs": [
    {
     "name": "stdout",
     "output_type": "stream",
     "text": [
      "Epoch 1/20\n",
      "31/31 [==============================] - 25s 451ms/step - loss: 1.2427 - val_loss: 1.0907\n",
      "Epoch 2/20\n",
      "31/31 [==============================] - 14s 449ms/step - loss: 1.0265 - val_loss: 1.0945\n",
      "Epoch 3/20\n",
      "31/31 [==============================] - 14s 449ms/step - loss: 0.8527 - val_loss: 1.1626\n",
      "Epoch 4/20\n",
      "31/31 [==============================] - 14s 453ms/step - loss: 0.5166 - val_loss: 1.3129\n",
      "Epoch 5/20\n",
      "31/31 [==============================] - 14s 448ms/step - loss: 0.3828 - val_loss: 1.5118\n",
      "Epoch 6/20\n",
      "31/31 [==============================] - 14s 447ms/step - loss: 0.1628 - val_loss: 1.5738\n",
      "Epoch 7/20\n",
      "31/31 [==============================] - 14s 449ms/step - loss: 0.0481 - val_loss: 1.8061\n",
      "Epoch 8/20\n",
      "31/31 [==============================] - 14s 448ms/step - loss: 0.0306 - val_loss: 1.8443\n",
      "Epoch 9/20\n",
      "31/31 [==============================] - 14s 449ms/step - loss: 0.0209 - val_loss: 2.0045\n",
      "Epoch 10/20\n",
      "31/31 [==============================] - 14s 450ms/step - loss: 0.0227 - val_loss: 2.2019\n",
      "Epoch 11/20\n",
      "31/31 [==============================] - 14s 449ms/step - loss: 0.0200 - val_loss: 1.9508\n",
      "Epoch 12/20\n",
      "31/31 [==============================] - 14s 447ms/step - loss: 0.0239 - val_loss: 2.0390\n",
      "Epoch 13/20\n",
      "31/31 [==============================] - 14s 446ms/step - loss: 0.0093 - val_loss: 2.0664\n",
      "Epoch 14/20\n",
      "31/31 [==============================] - 14s 448ms/step - loss: 0.0083 - val_loss: 2.1646\n",
      "Epoch 15/20\n",
      "31/31 [==============================] - 14s 450ms/step - loss: 0.0067 - val_loss: 2.1795\n",
      "Epoch 16/20\n",
      "31/31 [==============================] - 14s 451ms/step - loss: 0.0131 - val_loss: 2.1948\n",
      "Epoch 17/20\n",
      "31/31 [==============================] - 14s 449ms/step - loss: 0.0149 - val_loss: 2.1684\n",
      "Epoch 18/20\n",
      "31/31 [==============================] - 14s 449ms/step - loss: 0.0092 - val_loss: 2.3472\n",
      "Epoch 19/20\n",
      "31/31 [==============================] - 14s 453ms/step - loss: 0.0073 - val_loss: 2.3064\n",
      "Epoch 20/20\n",
      "31/31 [==============================] - 14s 447ms/step - loss: 0.0105 - val_loss: 2.2805\n"
     ]
    }
   ],
   "source": [
    "history = bert_model.fit(x = [[train_tokens, train_mask ,train_segment], train_te_users], y = y_train_ohe, epochs = 20, \n",
    "                         batch_size = 16, verbose = 1, \n",
    "                         validation_data = ([[cv_tokens, cv_mask ,cv_segment], cv_te_users], y_cv_ohe))"
   ]
  },
  {
   "cell_type": "code",
   "execution_count": 26,
   "id": "0c999b76",
   "metadata": {},
   "outputs": [],
   "source": [
    "# predicting probabilities\n",
    "train_pred = bert_model.predict( [[train_tokens, train_mask ,train_segment], train_te_users])\n",
    "cv_pred = bert_model.predict( [[cv_tokens, cv_mask ,cv_segment], cv_te_users])\n",
    "test_pred = bert_model.predict( [[test_tokens, test_mask ,test_segment], test_te_users])"
   ]
  },
  {
   "cell_type": "code",
   "execution_count": 27,
   "id": "28dfce82",
   "metadata": {},
   "outputs": [
    {
     "data": {
      "image/png": "[encoded data removed]",
      "text/plain": [
       "<IPython.core.display.Image object>"
      ]
     },
     "execution_count": 27,
     "metadata": {},
     "output_type": "execute_result"
    }
   ],
   "source": [
    "tf.keras.utils.plot_model(bert_model)"
   ]
  },
  {
   "cell_type": "code",
   "execution_count": 28,
   "id": "59274df1",
   "metadata": {},
   "outputs": [],
   "source": [
    "# converting probabilities to labels\n",
    "train_pred_final = []\n",
    "for i in range(len(train)):\n",
    "    train_pred_final.append(np.argmax(train_pred[i]))\n",
    "    \n",
    "cv_pred_final = []\n",
    "for i in range(len(cv)):\n",
    "    cv_pred_final.append(np.argmax(cv_pred[i]))\n",
    "    \n",
    "test_pred_final = []\n",
    "for i in range(len(test)):\n",
    "    test_pred_final.append(np.argmax(test_pred[i]))"
   ]
  },
  {
   "cell_type": "code",
   "execution_count": 29,
   "id": "49c3b3b2",
   "metadata": {},
   "outputs": [
    {
     "name": "stdout",
     "output_type": "stream",
     "text": [
      "Train Set Accuracy:  99.6 %\n",
      "Dev Set Accuracy:  48.21 %\n",
      "Test Set Accuracy:  60.0 %\n"
     ]
    }
   ],
   "source": [
    "print(\"Train Set Accuracy: \",np.round(accuracy_score(train['Answer Label'], train_pred_final)*100, 2), \"%\")\n",
    "print(\"Dev Set Accuracy: \",np.round(accuracy_score(cv['Answer Label'], cv_pred_final)*100, 2), \"%\")\n",
    "print(\"Test Set Accuracy: \",np.round(accuracy_score(test['Answer Label'], test_pred_final)*100, 2), \"%\")"
   ]
  },
  {
   "cell_type": "code",
   "execution_count": 30,
   "id": "8c1ee4ea",
   "metadata": {},
   "outputs": [
    {
     "name": "stdout",
     "output_type": "stream",
     "text": [
      "Train Set F1-Score:  1.0\n",
      "Dev Set F1-Score:  0.41\n",
      "Test Set F1-Score:  0.36\n"
     ]
    }
   ],
   "source": [
    "print(\"Train Set F1-Score: \",np.round(f1_score(train['Answer Label'], train_pred_final, average='macro'), 2))\n",
    "print(\"Dev Set F1-Score: \",np.round(f1_score(cv['Answer Label'], cv_pred_final, average='macro'), 2))\n",
    "print(\"Test Set F1-Score: \",np.round(f1_score(test['Answer Label'], test_pred_final, average='macro'), 2))"
   ]
  },
  {
   "cell_type": "code",
   "execution_count": 31,
   "id": "d4c26b9f",
   "metadata": {},
   "outputs": [
    {
     "data": {
      "image/png": "[encoded data removed]",
      "text/plain": [
       "<Figure size 432x288 with 2 Axes>"
      ]
     },
     "metadata": {
      "needs_background": "light"
     },
     "output_type": "display_data"
    }
   ],
   "source": [
    "# confusion matrix\n",
    "sns.heatmap(confusion_matrix(cv['Answer Label'], cv_pred_final), cmap = 'Reds', annot =  True)\n",
    "plt.xlabel('Predicted Labels')\n",
    "plt.ylabel('Actual Labels')\n",
    "te = plt.xticks(ticks = [0.5,1.5,2.5], labels = ['Non Factual', 'Factual-True', 'Factual-False'])\n",
    "te = plt.yticks(ticks = [0.5,1.5,2.5], labels = ['Non Factual', 'Factual-True', 'Factual-False'])"
   ]
  },
  {
   "cell_type": "markdown",
   "id": "d799438a",
   "metadata": {},
   "source": [
    "### BERT Model with Length Feature"
   ]
  },
  {
   "cell_type": "code",
   "execution_count": 33,
   "id": "0c6f1b95",
   "metadata": {},
   "outputs": [],
   "source": [
    "#BERT takes 3 inputs\n",
    "#this is input words. Sequence of words represented as integers\n",
    "input_user = tf.keras.layers.Input(shape = (1,))\n",
    "\n",
    "input_word_ids = tf.keras.layers.Input(shape=(max_seq_length,), dtype=tf.int32, name=\"input_word_ids\")\n",
    "\n",
    "#mask vector if you are padding anything\n",
    "input_mask = tf.keras.layers.Input(shape=(max_seq_length,), dtype=tf.int32, name=\"input_mask\")\n",
    "\n",
    "#segment vectors. If you are giving only one sentence for the classification, total seg vector is 0. \n",
    "#If you are giving two sentenced with [sep] token separated, first seq segment vectors are zeros and \n",
    "#second seq segment vector are 1's\n",
    "segment_ids = tf.keras.layers.Input(shape=(max_seq_length,), dtype=tf.int32, name=\"segment_ids\")\n",
    "\n",
    "#bert layer \n",
    "bert_layer = hub.KerasLayer(\"https://tfhub.dev/tensorflow/bert_en_uncased_L-12_H-768_A-12/1\", trainable=True)\n",
    "pooled_output, sequence_output = bert_layer([input_word_ids, input_mask, segment_ids])\n",
    "\n",
    "densep = tf.keras.layers.Dense(768, activation='relu', \n",
    "                               kernel_initializer = tf.keras.initializers.he_normal(seed=42))(pooled_output)\n",
    "#print(densep.shape)\n",
    "\n",
    "dense1 = tf.keras.layers.Dense(768, activation='relu', \n",
    "                               kernel_initializer = tf.keras.initializers.he_normal(seed=42))(input_user)\n",
    "#print(dense1.shape)\n",
    "add = tf.keras.layers.Add()([densep, dense1])\n",
    "#print(add.shape)\n",
    "dense2 = tf.keras.layers.Dense(512, activation='relu', \n",
    "                               kernel_initializer = tf.keras.initializers.he_normal(seed=421))(add)\n",
    "\n",
    "output_ = tf.keras.layers.Dense(n_labels,activation = 'softmax')(dense2)\n",
    "\n",
    "bert_model = Model(inputs=[[input_word_ids, input_mask, segment_ids], input_user], outputs=output_)"
   ]
  },
  {
   "cell_type": "code",
   "execution_count": 23,
   "id": "17816bb7",
   "metadata": {},
   "outputs": [],
   "source": [
    "opt = tf.keras.optimizers.Adam(0.00001)\n",
    "bert_model.compile(opt, 'categorical_crossentropy')"
   ]
  },
  {
   "cell_type": "code",
   "execution_count": 24,
   "id": "3ff2f143",
   "metadata": {},
   "outputs": [
    {
     "name": "stdout",
     "output_type": "stream",
     "text": [
      "Epoch 1/20\n",
      "31/31 [==============================] - 30s 507ms/step - loss: 1.1188 - val_loss: 1.1153\n",
      "Epoch 2/20\n",
      "31/31 [==============================] - 14s 447ms/step - loss: 1.0205 - val_loss: 1.0912\n",
      "Epoch 3/20\n",
      "31/31 [==============================] - 14s 446ms/step - loss: 0.8430 - val_loss: 1.0782\n",
      "Epoch 4/20\n",
      "31/31 [==============================] - 14s 446ms/step - loss: 0.6133 - val_loss: 1.2209\n",
      "Epoch 5/20\n",
      "31/31 [==============================] - 14s 446ms/step - loss: 0.3184 - val_loss: 1.2715\n",
      "Epoch 6/20\n",
      "31/31 [==============================] - 14s 446ms/step - loss: 0.1544 - val_loss: 1.4515\n",
      "Epoch 7/20\n",
      "31/31 [==============================] - 14s 446ms/step - loss: 0.1072 - val_loss: 1.6359\n",
      "Epoch 8/20\n",
      "31/31 [==============================] - 14s 446ms/step - loss: 0.0381 - val_loss: 1.7351\n",
      "Epoch 9/20\n",
      "31/31 [==============================] - 14s 446ms/step - loss: 0.0300 - val_loss: 1.8701\n",
      "Epoch 10/20\n",
      "31/31 [==============================] - 14s 446ms/step - loss: 0.0292 - val_loss: 1.8157\n",
      "Epoch 11/20\n",
      "31/31 [==============================] - 14s 446ms/step - loss: 0.0239 - val_loss: 1.8342\n",
      "Epoch 12/20\n",
      "31/31 [==============================] - 14s 446ms/step - loss: 0.0371 - val_loss: 1.8674\n",
      "Epoch 13/20\n",
      "31/31 [==============================] - 14s 446ms/step - loss: 0.0227 - val_loss: 1.9643\n",
      "Epoch 14/20\n",
      "31/31 [==============================] - 14s 445ms/step - loss: 0.0169 - val_loss: 2.0395\n",
      "Epoch 15/20\n",
      "31/31 [==============================] - 14s 447ms/step - loss: 0.0087 - val_loss: 1.9895\n",
      "Epoch 16/20\n",
      "31/31 [==============================] - 14s 446ms/step - loss: 0.0115 - val_loss: 2.2831\n",
      "Epoch 17/20\n",
      "31/31 [==============================] - 14s 446ms/step - loss: 0.0106 - val_loss: 2.1477\n",
      "Epoch 18/20\n",
      "31/31 [==============================] - 14s 446ms/step - loss: 0.0066 - val_loss: 2.1698\n",
      "Epoch 19/20\n",
      "31/31 [==============================] - 14s 447ms/step - loss: 0.0115 - val_loss: 2.1018\n",
      "Epoch 20/20\n",
      "31/31 [==============================] - 14s 447ms/step - loss: 0.0097 - val_loss: 2.1224\n"
     ]
    }
   ],
   "source": [
    "history = bert_model.fit(x = [[train_tokens, train_mask ,train_segment], train['Sentence_Length'].values], \n",
    "                         y = y_train_ohe, epochs = 20, \n",
    "                         batch_size = 16, verbose = 1, \n",
    "                         validation_data = ([[cv_tokens, cv_mask ,cv_segment], cv['Sentence_Length'].values], y_cv_ohe))"
   ]
  },
  {
   "cell_type": "code",
   "execution_count": 25,
   "id": "a20c354b",
   "metadata": {},
   "outputs": [],
   "source": [
    "# predicting probabilities\n",
    "train_pred = bert_model.predict( [[train_tokens, train_mask ,train_segment], train['Sentence_Length'].values])\n",
    "cv_pred = bert_model.predict( [[cv_tokens, cv_mask ,cv_segment], cv['Sentence_Length'].values])\n",
    "test_pred = bert_model.predict( [[test_tokens, test_mask ,test_segment], test['Sentence_Length'].values])"
   ]
  },
  {
   "cell_type": "code",
   "execution_count": 26,
   "id": "42931b7a",
   "metadata": {},
   "outputs": [],
   "source": [
    "# converting probabilities to labels\n",
    "train_pred_final = []\n",
    "for i in range(len(train)):\n",
    "    train_pred_final.append(np.argmax(train_pred[i]))\n",
    "    \n",
    "cv_pred_final = []\n",
    "for i in range(len(cv)):\n",
    "    cv_pred_final.append(np.argmax(cv_pred[i]))\n",
    "    \n",
    "test_pred_final = []\n",
    "for i in range(len(test)):\n",
    "    test_pred_final.append(np.argmax(test_pred[i]))"
   ]
  },
  {
   "cell_type": "code",
   "execution_count": 27,
   "id": "b9ed62d2",
   "metadata": {},
   "outputs": [
    {
     "name": "stdout",
     "output_type": "stream",
     "text": [
      "Train Set Accuracy:  99.6 %\n",
      "Dev Set Accuracy:  40.18 %\n",
      "Test Set Accuracy:  42.26 %\n"
     ]
    }
   ],
   "source": [
    "print(\"Train Set Accuracy: \",np.round(accuracy_score(train['Answer Label'], train_pred_final)*100, 2), \"%\")\n",
    "print(\"Dev Set Accuracy: \",np.round(accuracy_score(cv['Answer Label'], cv_pred_final)*100, 2), \"%\")\n",
    "print(\"Test Set Accuracy: \",np.round(accuracy_score(test['Answer Label'], test_pred_final)*100, 2), \"%\")"
   ]
  },
  {
   "cell_type": "code",
   "execution_count": 28,
   "id": "7828e75b",
   "metadata": {},
   "outputs": [
    {
     "name": "stdout",
     "output_type": "stream",
     "text": [
      "Train Set F1-Score:  1.0\n",
      "Dev Set F1-Score:  0.4\n",
      "Test Set F1-Score:  0.31\n"
     ]
    }
   ],
   "source": [
    "print(\"Train Set F1-Score: \",np.round(f1_score(train['Answer Label'], train_pred_final, average='macro'), 2))\n",
    "print(\"Dev Set F1-Score: \",np.round(f1_score(cv['Answer Label'], cv_pred_final, average='macro'), 2))\n",
    "print(\"Test Set F1-Score: \",np.round(f1_score(test['Answer Label'], test_pred_final, average='macro'), 2))"
   ]
  }
 ],
 "metadata": {
  "kernelspec": {
   "display_name": "Python [conda env:py3-TF2.0] *",
   "language": "python",
   "name": "conda-env-py3-TF2.0-py"
  },
  "language_info": {
   "codemirror_mode": {
    "name": "ipython",
    "version": 3
   },
   "file_extension": ".py",
   "mimetype": "text/x-python",
   "name": "python",
   "nbconvert_exporter": "python",
   "pygments_lexer": "ipython3",
   "version": "3.7.10"
  }
 },
 "nbformat": 4,
 "nbformat_minor": 5
}
