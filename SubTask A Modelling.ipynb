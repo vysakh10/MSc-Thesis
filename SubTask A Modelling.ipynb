{
 "cells": [
  {
   "cell_type": "markdown",
   "id": "b594e67e",
   "metadata": {},
   "source": [
    "# <center> SubTask A: Question Classification </center>"
   ]
  },
  {
   "cell_type": "markdown",
   "id": "bef5a280",
   "metadata": {},
   "source": [
    "This subtask focuses on classifying the given questions into 3 categories : Factual, Opinion and Socializing."
   ]
  },
  {
   "cell_type": "markdown",
   "id": "5245679c",
   "metadata": {},
   "source": [
    "A Large number of users use Community Question Answering (cQA) forums in their day to day life. There are a lot of genuine users, a lot of users who are just scammers and there are also a lot of bot accounts available in such forums. Practically there are high chances that a question posed by a genuine user might be factual and less so for bot or scam accounts. Even the length of a question might be useful in determining whether a question is actually factual or not."
   ]
  },
  {
   "cell_type": "markdown",
   "id": "db6770a0",
   "metadata": {},
   "source": [
    "This notebook implements the solution proposed by Syed (<i>Bakhtiyar Syed, Vijayasaradhi Indurthi, “Fermi at\n",
    "semeval-2019 task 8: An elementary but effective approach to question discernment\n",
    "in community qa forums”</i>) which was the winning solution in the competition. Then the user and length information of each question is added to the dataset to check whether those factors are in fact helpful in determining its factuality."
   ]
  },
  {
   "cell_type": "markdown",
   "id": "6afd2033",
   "metadata": {},
   "source": [
    "### Importing required Libraries"
   ]
  },
  {
   "cell_type": "code",
   "execution_count": 1,
   "id": "605a5b17",
   "metadata": {},
   "outputs": [],
   "source": [
    "import numpy as np\n",
    "import pandas as pd\n",
    "import matplotlib.pyplot as plt\n",
    "import seaborn as sns\n",
    "import tensorflow as tf\n",
    "import tensorflow_hub as hub\n",
    "from tensorflow.keras.layers import Input, Dense, Dropout\n",
    "from tensorflow.keras.models import Model\n",
    "import warnings\n",
    "warnings.filterwarnings(\"ignore\")\n",
    "from sklearn.model_selection import train_test_split\n",
    "from sklearn.linear_model import SGDClassifier\n",
    "from sklearn.metrics import f1_score, accuracy_score, confusion_matrix\n",
    "import xgboost as xgb\n",
    "from category_encoders import TargetEncoder\n",
    "from sklearn.preprocessing import StandardScaler"
   ]
  },
  {
   "cell_type": "markdown",
   "id": "0d5925e2",
   "metadata": {},
   "source": [
    "### Loading Data"
   ]
  },
  {
   "cell_type": "markdown",
   "id": "0807a58c",
   "metadata": {},
   "source": [
    "All the required data from the xml files have been extracted and converted into a csv file for easy access."
   ]
  },
  {
   "cell_type": "code",
   "execution_count": 2,
   "id": "922b8248",
   "metadata": {},
   "outputs": [],
   "source": [
    "train = pd.read_csv('Questions_Train.csv')\n",
    "cv = pd.read_csv('Questions_Dev.csv')\n",
    "test = pd.read_csv('Questions_Test.csv')"
   ]
  },
  {
   "cell_type": "code",
   "execution_count": 3,
   "id": "40c07d9d",
   "metadata": {},
   "outputs": [
    {
     "data": {
      "text/html": [
       "<div>\n",
       "<style scoped>\n",
       "    .dataframe tbody tr th:only-of-type {\n",
       "        vertical-align: middle;\n",
       "    }\n",
       "\n",
       "    .dataframe tbody tr th {\n",
       "        vertical-align: top;\n",
       "    }\n",
       "\n",
       "    .dataframe thead th {\n",
       "        text-align: right;\n",
       "    }\n",
       "</style>\n",
       "<table border=\"1\" class=\"dataframe\">\n",
       "  <thead>\n",
       "    <tr style=\"text-align: right;\">\n",
       "      <th></th>\n",
       "      <th>Thread Sequence</th>\n",
       "      <th>Question ID</th>\n",
       "      <th>Question Category</th>\n",
       "      <th>Question Subject</th>\n",
       "      <th>Question Body</th>\n",
       "      <th>Label</th>\n",
       "      <th>UserID</th>\n",
       "    </tr>\n",
       "  </thead>\n",
       "  <tbody>\n",
       "    <tr>\n",
       "      <th>0</th>\n",
       "      <td>Q1_R1</td>\n",
       "      <td>Q1_R1</td>\n",
       "      <td>Qatar Living Lounge</td>\n",
       "      <td>massage oil</td>\n",
       "      <td>is there any place i can find scented massage ...</td>\n",
       "      <td>Factual</td>\n",
       "      <td>U1</td>\n",
       "    </tr>\n",
       "    <tr>\n",
       "      <th>1</th>\n",
       "      <td>Q1_R6</td>\n",
       "      <td>Q1_R6</td>\n",
       "      <td>Advice and Help</td>\n",
       "      <td>Philipino Massage center</td>\n",
       "      <td>Hi;Can any one tell me a place where i can hav...</td>\n",
       "      <td>Opinion</td>\n",
       "      <td>U5</td>\n",
       "    </tr>\n",
       "    <tr>\n",
       "      <th>2</th>\n",
       "      <td>Q1_R8</td>\n",
       "      <td>Q1_R8</td>\n",
       "      <td>Qatar Living Lounge</td>\n",
       "      <td>Best place for massage</td>\n",
       "      <td>Tell me; where is the best place to go for a m...</td>\n",
       "      <td>Opinion</td>\n",
       "      <td>U13</td>\n",
       "    </tr>\n",
       "    <tr>\n",
       "      <th>3</th>\n",
       "      <td>Q1_R10</td>\n",
       "      <td>Q1_R10</td>\n",
       "      <td>Qatar Living Lounge</td>\n",
       "      <td>body massage</td>\n",
       "      <td>hi there; i can see a lot of massage center he...</td>\n",
       "      <td>Opinion</td>\n",
       "      <td>U18</td>\n",
       "    </tr>\n",
       "    <tr>\n",
       "      <th>4</th>\n",
       "      <td>Q1_R22</td>\n",
       "      <td>Q1_R22</td>\n",
       "      <td>Qatar Living Lounge</td>\n",
       "      <td>What attracts you more ?</td>\n",
       "      <td>What attracts you more ?</td>\n",
       "      <td>Opinion</td>\n",
       "      <td>U26</td>\n",
       "    </tr>\n",
       "  </tbody>\n",
       "</table>\n",
       "</div>"
      ],
      "text/plain": [
       "  Thread Sequence Question ID    Question Category          Question Subject  \\\n",
       "0           Q1_R1       Q1_R1  Qatar Living Lounge               massage oil   \n",
       "1           Q1_R6       Q1_R6      Advice and Help  Philipino Massage center   \n",
       "2           Q1_R8       Q1_R8  Qatar Living Lounge    Best place for massage   \n",
       "3          Q1_R10      Q1_R10  Qatar Living Lounge              body massage   \n",
       "4          Q1_R22      Q1_R22  Qatar Living Lounge  What attracts you more ?   \n",
       "\n",
       "                                       Question Body    Label UserID  \n",
       "0  is there any place i can find scented massage ...  Factual     U1  \n",
       "1  Hi;Can any one tell me a place where i can hav...  Opinion     U5  \n",
       "2  Tell me; where is the best place to go for a m...  Opinion    U13  \n",
       "3  hi there; i can see a lot of massage center he...  Opinion    U18  \n",
       "4                           What attracts you more ?  Opinion    U26  "
      ]
     },
     "execution_count": 3,
     "metadata": {},
     "output_type": "execute_result"
    }
   ],
   "source": [
    "train.head()"
   ]
  },
  {
   "cell_type": "markdown",
   "id": "a570f55b",
   "metadata": {},
   "source": [
    "### Dropping Null Rows from the Data"
   ]
  },
  {
   "cell_type": "code",
   "execution_count": 4,
   "id": "24436001",
   "metadata": {},
   "outputs": [],
   "source": [
    "cv.dropna(inplace = True)\n",
    "test.dropna(inplace = True)\n",
    "train.dropna(inplace = True)"
   ]
  },
  {
   "cell_type": "code",
   "execution_count": 5,
   "id": "4b6a1a7a",
   "metadata": {},
   "outputs": [],
   "source": [
    "def calc_char(x):\n",
    "    '''Function to calculate the length of each question'''\n",
    "    return len(x.split())\n",
    "\n",
    "train['Sentence_Length'] = train['Question Body'].apply(lambda x: calc_char(x))\n",
    "cv['Sentence_Length'] = cv['Question Body'].apply(lambda x: calc_char(x))\n",
    "test['Sentence_Length'] = test['Question Body'].apply(lambda x: calc_char(x))"
   ]
  },
  {
   "cell_type": "code",
   "execution_count": 6,
   "id": "cfb55abb",
   "metadata": {},
   "outputs": [],
   "source": [
    "# Mapping Label Values\n",
    "\n",
    "label_mapper = {'Factual':1, 'Opinion':0, 'Socializing':2}\n",
    "\n",
    "train['Label'] = train['Label'].map(label_mapper)\n",
    "cv['Label'] = cv['Label'].map(label_mapper)\n",
    "test['Label'] = test['Label'].map(label_mapper)"
   ]
  },
  {
   "cell_type": "code",
   "execution_count": 7,
   "id": "b5e8375a",
   "metadata": {},
   "outputs": [
    {
     "data": {
      "text/html": [
       "<div>\n",
       "<style scoped>\n",
       "    .dataframe tbody tr th:only-of-type {\n",
       "        vertical-align: middle;\n",
       "    }\n",
       "\n",
       "    .dataframe tbody tr th {\n",
       "        vertical-align: top;\n",
       "    }\n",
       "\n",
       "    .dataframe thead th {\n",
       "        text-align: right;\n",
       "    }\n",
       "</style>\n",
       "<table border=\"1\" class=\"dataframe\">\n",
       "  <thead>\n",
       "    <tr style=\"text-align: right;\">\n",
       "      <th></th>\n",
       "      <th>Thread Sequence</th>\n",
       "      <th>Question ID</th>\n",
       "      <th>Question Category</th>\n",
       "      <th>Question Subject</th>\n",
       "      <th>Question Body</th>\n",
       "      <th>Label</th>\n",
       "      <th>UserID</th>\n",
       "      <th>Sentence_Length</th>\n",
       "    </tr>\n",
       "  </thead>\n",
       "  <tbody>\n",
       "    <tr>\n",
       "      <th>0</th>\n",
       "      <td>Q1_R1</td>\n",
       "      <td>Q1_R1</td>\n",
       "      <td>Qatar Living Lounge</td>\n",
       "      <td>massage oil</td>\n",
       "      <td>is there any place i can find scented massage ...</td>\n",
       "      <td>1</td>\n",
       "      <td>U1</td>\n",
       "      <td>12</td>\n",
       "    </tr>\n",
       "    <tr>\n",
       "      <th>1</th>\n",
       "      <td>Q1_R6</td>\n",
       "      <td>Q1_R6</td>\n",
       "      <td>Advice and Help</td>\n",
       "      <td>Philipino Massage center</td>\n",
       "      <td>Hi;Can any one tell me a place where i can hav...</td>\n",
       "      <td>0</td>\n",
       "      <td>U5</td>\n",
       "      <td>42</td>\n",
       "    </tr>\n",
       "    <tr>\n",
       "      <th>2</th>\n",
       "      <td>Q1_R8</td>\n",
       "      <td>Q1_R8</td>\n",
       "      <td>Qatar Living Lounge</td>\n",
       "      <td>Best place for massage</td>\n",
       "      <td>Tell me; where is the best place to go for a m...</td>\n",
       "      <td>0</td>\n",
       "      <td>U13</td>\n",
       "      <td>37</td>\n",
       "    </tr>\n",
       "    <tr>\n",
       "      <th>3</th>\n",
       "      <td>Q1_R10</td>\n",
       "      <td>Q1_R10</td>\n",
       "      <td>Qatar Living Lounge</td>\n",
       "      <td>body massage</td>\n",
       "      <td>hi there; i can see a lot of massage center he...</td>\n",
       "      <td>0</td>\n",
       "      <td>U18</td>\n",
       "      <td>34</td>\n",
       "    </tr>\n",
       "    <tr>\n",
       "      <th>4</th>\n",
       "      <td>Q1_R22</td>\n",
       "      <td>Q1_R22</td>\n",
       "      <td>Qatar Living Lounge</td>\n",
       "      <td>What attracts you more ?</td>\n",
       "      <td>What attracts you more ?</td>\n",
       "      <td>0</td>\n",
       "      <td>U26</td>\n",
       "      <td>5</td>\n",
       "    </tr>\n",
       "  </tbody>\n",
       "</table>\n",
       "</div>"
      ],
      "text/plain": [
       "  Thread Sequence Question ID    Question Category          Question Subject  \\\n",
       "0           Q1_R1       Q1_R1  Qatar Living Lounge               massage oil   \n",
       "1           Q1_R6       Q1_R6      Advice and Help  Philipino Massage center   \n",
       "2           Q1_R8       Q1_R8  Qatar Living Lounge    Best place for massage   \n",
       "3          Q1_R10      Q1_R10  Qatar Living Lounge              body massage   \n",
       "4          Q1_R22      Q1_R22  Qatar Living Lounge  What attracts you more ?   \n",
       "\n",
       "                                       Question Body  Label UserID  \\\n",
       "0  is there any place i can find scented massage ...      1     U1   \n",
       "1  Hi;Can any one tell me a place where i can hav...      0     U5   \n",
       "2  Tell me; where is the best place to go for a m...      0    U13   \n",
       "3  hi there; i can see a lot of massage center he...      0    U18   \n",
       "4                           What attracts you more ?      0    U26   \n",
       "\n",
       "   Sentence_Length  \n",
       "0               12  \n",
       "1               42  \n",
       "2               37  \n",
       "3               34  \n",
       "4                5  "
      ]
     },
     "execution_count": 7,
     "metadata": {},
     "output_type": "execute_result"
    }
   ],
   "source": [
    "train.head()"
   ]
  },
  {
   "cell_type": "markdown",
   "id": "c8f3f370",
   "metadata": {},
   "source": [
    "### Standard Scaling Sentence Length"
   ]
  },
  {
   "cell_type": "code",
   "execution_count": 8,
   "id": "c4800b45",
   "metadata": {},
   "outputs": [],
   "source": [
    "ss = StandardScaler()\n",
    "\n",
    "train['Sentence_Length'] = ss.fit_transform(train['Sentence_Length'].values.reshape(-1, 1))\n",
    "cv['Sentence_Length'] = ss.transform(cv['Sentence_Length'].values.reshape(-1, 1))\n",
    "test['Sentence_Length'] = ss.transform(test['Sentence_Length'].values.reshape(-1, 1))"
   ]
  },
  {
   "cell_type": "markdown",
   "id": "144d8c44",
   "metadata": {},
   "source": [
    "### Target Encoding User Information"
   ]
  },
  {
   "cell_type": "code",
   "execution_count": 9,
   "id": "07a09b59",
   "metadata": {},
   "outputs": [],
   "source": [
    "woe = TargetEncoder()\n",
    "\n",
    "train_te_users = woe.fit_transform(train['UserID'], train['Label'])\n",
    "cv_te_users = woe.transform(cv['UserID'])\n",
    "test_te_users = woe.transform(test['UserID'])"
   ]
  },
  {
   "cell_type": "markdown",
   "id": "7da9dc61",
   "metadata": {},
   "source": [
    "### Loading Universal Sentence Encoder"
   ]
  },
  {
   "cell_type": "code",
   "execution_count": 10,
   "id": "8a8e5c99",
   "metadata": {},
   "outputs": [],
   "source": [
    "# downloaded from https://tfhub.dev/google/universal-sentence-encoder/4\n",
    "\n",
    "m = hub.load('Universal_Sentence_Encoder\\\\Transformer_Encoder\\\\')"
   ]
  },
  {
   "cell_type": "code",
   "execution_count": 11,
   "id": "e6beb96f",
   "metadata": {},
   "outputs": [],
   "source": [
    "def embed(input_):\n",
    "    '''Function that outputs embeddings for passed text input'''\n",
    "    return m(input_)"
   ]
  },
  {
   "cell_type": "markdown",
   "id": "e8caed4a",
   "metadata": {},
   "source": [
    "### Extracting Embeddings using Universal Sentence Encoder"
   ]
  },
  {
   "cell_type": "code",
   "execution_count": 12,
   "id": "b94f9bcc",
   "metadata": {},
   "outputs": [],
   "source": [
    "use_train = embed(train['Question Body'].values)\n",
    "use_train = np.array(use_train)\n",
    "\n",
    "use_cv = embed(cv['Question Body'].values)\n",
    "use_cv = np.array(use_cv)\n",
    "\n",
    "use_test = embed(test['Question Body'].values)\n",
    "use_test = np.array(use_test)"
   ]
  },
  {
   "cell_type": "markdown",
   "id": "652b351e",
   "metadata": {},
   "source": [
    "### Training an XGBoost Classifier on the Extracted Features (512 dimensional features)"
   ]
  },
  {
   "cell_type": "code",
   "execution_count": 135,
   "id": "8aa6cb43",
   "metadata": {},
   "outputs": [],
   "source": [
    "xgb_params = {}\n",
    "xgb_params['n_estimators'] = 900\n",
    "xgb_params['learning_rate'] = 0.01\n",
    "xgb_params['max_depth'] = 3\n",
    "xgb_params['min_child_weight'] = 20"
   ]
  },
  {
   "cell_type": "code",
   "execution_count": 136,
   "id": "f5531c39",
   "metadata": {},
   "outputs": [
    {
     "data": {
      "text/plain": [
       "XGBClassifier(base_score=0.5, booster=None, colsample_bylevel=1,\n",
       "              colsample_bynode=1, colsample_bytree=1, gamma=0, gpu_id=-1,\n",
       "              importance_type='gain', interaction_constraints=None,\n",
       "              learning_rate=0.01, max_delta_step=0, max_depth=3,\n",
       "              min_child_weight=20, missing=nan, monotone_constraints=None,\n",
       "              n_estimators=900, n_jobs=0, num_parallel_tree=1,\n",
       "              objective='multi:softprob', random_state=0, reg_alpha=0,\n",
       "              reg_lambda=1, scale_pos_weight=None, subsample=1,\n",
       "              tree_method=None, validate_parameters=False, verbosity=None)"
      ]
     },
     "execution_count": 136,
     "metadata": {},
     "output_type": "execute_result"
    }
   ],
   "source": [
    "xgb_ = xgb.XGBClassifier(**xgb_params)\n",
    "xgb_.fit(use_train, train['Label'])"
   ]
  },
  {
   "cell_type": "code",
   "execution_count": 137,
   "id": "f5027aaa",
   "metadata": {},
   "outputs": [],
   "source": [
    "# predictions for each set\n",
    "\n",
    "train_pred = xgb_.predict(use_train)\n",
    "cv_pred = xgb_.predict(use_cv)\n",
    "test_pred = xgb_.predict(use_test)"
   ]
  },
  {
   "cell_type": "code",
   "execution_count": 138,
   "id": "1d48b64d",
   "metadata": {},
   "outputs": [],
   "source": [
    "#'Factual':1, 'Opinion':0, 'Socializing':2"
   ]
  },
  {
   "cell_type": "code",
   "execution_count": 140,
   "id": "fa65bd27",
   "metadata": {},
   "outputs": [
    {
     "data": {
      "image/png": "[encoded data removed]",
      "text/plain": [
       "<Figure size 432x288 with 2 Axes>"
      ]
     },
     "metadata": {
      "needs_background": "light"
     },
     "output_type": "display_data"
    }
   ],
   "source": [
    "sns.heatmap(confusion_matrix(test['Label'], test_pred), cmap = 'Reds', annot =  True)\n",
    "plt.xlabel('Predicted Labels')\n",
    "plt.ylabel('Actual Labels')\n",
    "te = plt.xticks(ticks = [0.5,1.5,2.5], labels = ['Opinion', 'Factual', 'Socializing'])\n",
    "te = plt.yticks(ticks = [0.5,1.5,2.5], labels = ['Opinion', 'Factual', 'Socializing'])"
   ]
  },
  {
   "cell_type": "code",
   "execution_count": 139,
   "id": "b3ed2753",
   "metadata": {},
   "outputs": [
    {
     "data": {
      "image/png": "[encoded data removed]",
      "text/plain": [
       "<Figure size 432x288 with 2 Axes>"
      ]
     },
     "metadata": {
      "needs_background": "light"
     },
     "output_type": "display_data"
    }
   ],
   "source": [
    "sns.heatmap(confusion_matrix(cv['Label'], cv_pred), cmap = 'Reds', annot =  True)\n",
    "plt.xlabel('Predicted Labels')\n",
    "plt.ylabel('Actual Labels')\n",
    "te = plt.xticks(ticks = [0.5,1.5,2.5], labels = ['Opinion', 'Factual', 'Socializing'])\n",
    "te = plt.yticks(ticks = [0.5,1.5,2.5], labels = ['Opinion', 'Factual', 'Socializing'])"
   ]
  },
  {
   "cell_type": "code",
   "execution_count": 141,
   "id": "dc87a27b",
   "metadata": {},
   "outputs": [
    {
     "data": {
      "image/png": "[encoded data removed]",
      "text/plain": [
       "<Figure size 432x288 with 2 Axes>"
      ]
     },
     "metadata": {
      "needs_background": "light"
     },
     "output_type": "display_data"
    }
   ],
   "source": [
    "sns.heatmap(confusion_matrix(train['Label'], train_pred), cmap = 'Reds', annot =  True)\n",
    "plt.xlabel('Predicted Labels')\n",
    "plt.ylabel('Actual Labels')\n",
    "te = plt.xticks(ticks = [0.5,1.5,2.5], labels = ['Opinion', 'Factual', 'Socializing'])\n",
    "te = plt.yticks(ticks = [0.5,1.5,2.5], labels = ['Opinion', 'Factual', 'Socializing'])"
   ]
  },
  {
   "cell_type": "code",
   "execution_count": 142,
   "id": "28c289b6",
   "metadata": {},
   "outputs": [
    {
     "name": "stdout",
     "output_type": "stream",
     "text": [
      "Train Set Accuracy:  97.5 %\n",
      "Dev Set Accuracy:  92.82 %\n",
      "Test Set Accuracy:  69.88 %\n"
     ]
    }
   ],
   "source": [
    "print(\"Train Set Accuracy: \",np.round(accuracy_score(train['Label'], train_pred)*100, 2), \"%\")\n",
    "print(\"Dev Set Accuracy: \",np.round(accuracy_score(cv['Label'], cv_pred)*100, 2), \"%\")\n",
    "print(\"Test Set Accuracy: \",np.round(accuracy_score(test['Label'], test_pred)*100, 2), \"%\")"
   ]
  },
  {
   "cell_type": "code",
   "execution_count": 143,
   "id": "80600e5a",
   "metadata": {},
   "outputs": [
    {
     "name": "stdout",
     "output_type": "stream",
     "text": [
      "Train Set F1-Score:  0.97\n",
      "Dev Set F1-Score:  0.93\n",
      "Test Set F1-Score:  0.67\n"
     ]
    }
   ],
   "source": [
    "print(\"Train Set F1-Score: \",np.round(f1_score(train['Label'], train_pred, average='macro'), 2))\n",
    "print(\"Dev Set F1-Score: \",np.round(f1_score(cv['Label'], cv_pred, average='macro'), 2))\n",
    "print(\"Test Set F1-Score: \",np.round(f1_score(test['Label'], test_pred, average='macro'), 2))"
   ]
  },
  {
   "cell_type": "markdown",
   "id": "2f2ab7fb",
   "metadata": {},
   "source": [
    "The above trained model(hyper-parameter tuned) gives the best result for all three datasets."
   ]
  },
  {
   "cell_type": "markdown",
   "id": "abf626a0",
   "metadata": {},
   "source": [
    "<b>Syed reports an Accuracy of 84% and 0.72 on the development set. The above model is an improvement on the results reported!!</b>"
   ]
  },
  {
   "cell_type": "markdown",
   "id": "567f21c5",
   "metadata": {},
   "source": [
    "### Checking whether adding User Info improves model performance"
   ]
  },
  {
   "cell_type": "code",
   "execution_count": 23,
   "id": "24a938aa",
   "metadata": {},
   "outputs": [],
   "source": [
    "# adding user info to the extracted features\n",
    "\n",
    "train_with_users = np.hstack((use_train, train_te_users))\n",
    "cv_with_users = np.hstack((use_cv, cv_te_users))\n",
    "test_with_users = np.hstack((use_test, test_te_users))"
   ]
  },
  {
   "cell_type": "code",
   "execution_count": 144,
   "id": "41f5b4ce",
   "metadata": {},
   "outputs": [
    {
     "data": {
      "text/plain": [
       "XGBClassifier(base_score=0.5, booster=None, colsample_bylevel=1,\n",
       "              colsample_bynode=1, colsample_bytree=1, gamma=0, gpu_id=-1,\n",
       "              importance_type='gain', interaction_constraints=None,\n",
       "              learning_rate=0.01, max_delta_step=0, max_depth=3,\n",
       "              min_child_weight=50, missing=nan, monotone_constraints=None,\n",
       "              n_estimators=900, n_jobs=0, num_parallel_tree=1,\n",
       "              objective='multi:softprob', random_state=0, reg_alpha=0,\n",
       "              reg_lambda=1, scale_pos_weight=None, subsample=1,\n",
       "              tree_method=None, validate_parameters=False, verbosity=None)"
      ]
     },
     "execution_count": 144,
     "metadata": {},
     "output_type": "execute_result"
    }
   ],
   "source": [
    "xgb_params = {}\n",
    "xgb_params['n_estimators'] = 900\n",
    "xgb_params['learning_rate'] = 0.01\n",
    "xgb_params['max_depth'] = 3\n",
    "xgb_params['min_child_weight'] = 50\n",
    "\n",
    "xgb_ = xgb.XGBClassifier(**xgb_params)\n",
    "xgb_.fit(train_with_users, train['Label'])"
   ]
  },
  {
   "cell_type": "code",
   "execution_count": 145,
   "id": "e2537791",
   "metadata": {},
   "outputs": [],
   "source": [
    "train_pred = xgb_.predict(train_with_users)\n",
    "cv_pred = xgb_.predict(cv_with_users)\n",
    "test_pred = xgb_.predict(test_with_users)"
   ]
  },
  {
   "cell_type": "code",
   "execution_count": 146,
   "id": "b5d606e5",
   "metadata": {},
   "outputs": [
    {
     "name": "stdout",
     "output_type": "stream",
     "text": [
      "Train Set Accuracy:  91.03 %\n",
      "Dev Set Accuracy:  86.95 %\n",
      "Test Set Accuracy:  68.42 %\n"
     ]
    }
   ],
   "source": [
    "print(\"Train Set Accuracy: \",np.round(accuracy_score(train['Label'], train_pred)*100, 2), \"%\")\n",
    "print(\"Dev Set Accuracy: \",np.round(accuracy_score(cv['Label'], cv_pred)*100, 2), \"%\")\n",
    "print(\"Test Set Accuracy: \",np.round(accuracy_score(test['Label'], test_pred)*100, 2), \"%\")"
   ]
  },
  {
   "cell_type": "code",
   "execution_count": 147,
   "id": "2b9de1e0",
   "metadata": {},
   "outputs": [
    {
     "name": "stdout",
     "output_type": "stream",
     "text": [
      "Train Set F1-Score:  0.91\n",
      "Dev Set F1-Score:  0.86\n",
      "Test Set F1-Score:  0.66\n"
     ]
    }
   ],
   "source": [
    "print(\"Train Set F1-Score: \",np.round(f1_score(train['Label'], train_pred, average='macro'), 2))\n",
    "print(\"Dev Set F1-Score: \",np.round(f1_score(cv['Label'], cv_pred, average='macro'), 2))\n",
    "print(\"Test Set F1-Score: \",np.round(f1_score(test['Label'], test_pred, average='macro'), 2))"
   ]
  },
  {
   "cell_type": "code",
   "execution_count": 148,
   "id": "b86678af",
   "metadata": {},
   "outputs": [
    {
     "data": {
      "image/png": "[encoded data removed]",
      "text/plain": [
       "<Figure size 432x288 with 2 Axes>"
      ]
     },
     "metadata": {
      "needs_background": "light"
     },
     "output_type": "display_data"
    }
   ],
   "source": [
    "sns.heatmap(confusion_matrix(cv['Label'], cv_pred), cmap = 'Reds', annot =  True)\n",
    "plt.xlabel('Predicted Labels')\n",
    "plt.ylabel('Actual Labels')\n",
    "te = plt.xticks(ticks = [0.5,1.5,2.5], labels = ['Opinion', 'Factual', 'Socializing'])\n",
    "te = plt.yticks(ticks = [0.5,1.5,2.5], labels = ['Opinion', 'Factual', 'Socializing'])"
   ]
  },
  {
   "cell_type": "markdown",
   "id": "4ef8363b",
   "metadata": {},
   "source": [
    "<b>Adding user info has decreased the accuracy in all datasets. The dataset contains 880 unique users. Maybe there is not enough data or info about the users to confirm that it affects the model performance.</b>"
   ]
  },
  {
   "cell_type": "markdown",
   "id": "54b7e6e2",
   "metadata": {},
   "source": [
    "### Checking Whether Length of Questions improves the performance or not"
   ]
  },
  {
   "cell_type": "code",
   "execution_count": null,
   "id": "b363c96e",
   "metadata": {},
   "outputs": [],
   "source": [
    "# adding length to the extracted features\n",
    "\n",
    "train_with_len = np.hstack((use_train, train['Sentence_Length'].values.reshape(-1, 1)))\n",
    "cv_with_len = np.hstack((use_cv, cv['Sentence_Length'].values.reshape(-1, 1)))\n",
    "test_with_len = np.hstack((use_test, test['Sentence_Length'].values.reshape(-1, 1)))"
   ]
  },
  {
   "cell_type": "code",
   "execution_count": 149,
   "id": "8adaecf4",
   "metadata": {},
   "outputs": [
    {
     "data": {
      "text/plain": [
       "XGBClassifier(base_score=0.5, booster=None, colsample_bylevel=1,\n",
       "              colsample_bynode=1, colsample_bytree=1, gamma=0, gpu_id=-1,\n",
       "              importance_type='gain', interaction_constraints=None,\n",
       "              learning_rate=0.01, max_delta_step=0, max_depth=3,\n",
       "              min_child_weight=50, missing=nan, monotone_constraints=None,\n",
       "              n_estimators=900, n_jobs=0, num_parallel_tree=1,\n",
       "              objective='multi:softprob', random_state=0, reg_alpha=0,\n",
       "              reg_lambda=1, scale_pos_weight=None, subsample=1,\n",
       "              tree_method=None, validate_parameters=False, verbosity=None)"
      ]
     },
     "execution_count": 149,
     "metadata": {},
     "output_type": "execute_result"
    }
   ],
   "source": [
    "xgb_params = {}\n",
    "xgb_params['n_estimators'] = 900\n",
    "xgb_params['learning_rate'] = 0.01\n",
    "xgb_params['max_depth'] = 3\n",
    "xgb_params['min_child_weight'] = 50\n",
    "\n",
    "xgb_ = xgb.XGBClassifier(**xgb_params)\n",
    "xgb_.fit(train_with_len, train['Label'])"
   ]
  },
  {
   "cell_type": "code",
   "execution_count": 150,
   "id": "cbf3f502",
   "metadata": {},
   "outputs": [],
   "source": [
    "train_pred = xgb_.predict(train_with_users)\n",
    "cv_pred = xgb_.predict(cv_with_users)\n",
    "test_pred = xgb_.predict(test_with_users)"
   ]
  },
  {
   "cell_type": "code",
   "execution_count": 151,
   "id": "884ed90e",
   "metadata": {},
   "outputs": [
    {
     "name": "stdout",
     "output_type": "stream",
     "text": [
      "Train Set Accuracy:  90.93 %\n",
      "Dev Set Accuracy:  86.87 %\n",
      "Test Set Accuracy:  68.42 %\n"
     ]
    }
   ],
   "source": [
    "print(\"Train Set Accuracy: \",np.round(accuracy_score(train['Label'], train_pred)*100, 2), \"%\")\n",
    "print(\"Dev Set Accuracy: \",np.round(accuracy_score(cv['Label'], cv_pred)*100, 2), \"%\")\n",
    "print(\"Test Set Accuracy: \",np.round(accuracy_score(test['Label'], test_pred)*100, 2), \"%\")"
   ]
  },
  {
   "cell_type": "code",
   "execution_count": 152,
   "id": "5467fb85",
   "metadata": {},
   "outputs": [
    {
     "name": "stdout",
     "output_type": "stream",
     "text": [
      "Train Set F1-Score:  0.91\n",
      "Dev Set F1-Score:  0.86\n",
      "Test Set F1-Score:  0.66\n"
     ]
    }
   ],
   "source": [
    "print(\"Train Set F1-Score: \",np.round(f1_score(train['Label'], train_pred, average='macro'), 2))\n",
    "print(\"Dev Set F1-Score: \",np.round(f1_score(cv['Label'], cv_pred, average='macro'), 2))\n",
    "print(\"Test Set F1-Score: \",np.round(f1_score(test['Label'], test_pred, average='macro'), 2))"
   ]
  },
  {
   "cell_type": "code",
   "execution_count": 153,
   "id": "c4bfc9a4",
   "metadata": {},
   "outputs": [
    {
     "data": {
      "image/png": "[encoded data removed]",
      "text/plain": [
       "<Figure size 432x288 with 2 Axes>"
      ]
     },
     "metadata": {
      "needs_background": "light"
     },
     "output_type": "display_data"
    }
   ],
   "source": [
    "sns.heatmap(confusion_matrix(cv['Label'], cv_pred), cmap = 'Reds', annot =  True)\n",
    "plt.xlabel('Predicted Labels')\n",
    "plt.ylabel('Actual Labels')\n",
    "te = plt.xticks(ticks = [0.5,1.5,2.5], labels = ['Opinion', 'Factual', 'Socializing'])\n",
    "te = plt.yticks(ticks = [0.5,1.5,2.5], labels = ['Opinion', 'Factual', 'Socializing'])"
   ]
  },
  {
   "cell_type": "markdown",
   "id": "40e224ae",
   "metadata": {},
   "source": [
    "The additional factors added doesn't seem to improve the result!!"
   ]
  },
  {
   "cell_type": "code",
   "execution_count": null,
   "id": "970bb049",
   "metadata": {},
   "outputs": [],
   "source": []
  }
 ],
 "metadata": {
  "kernelspec": {
   "display_name": "Python [conda env:py3-TF2.0] *",
   "language": "python",
   "name": "conda-env-py3-TF2.0-py"
  },
  "language_info": {
   "codemirror_mode": {
    "name": "ipython",
    "version": 3
   },
   "file_extension": ".py",
   "mimetype": "text/x-python",
   "name": "python",
   "nbconvert_exporter": "python",
   "pygments_lexer": "ipython3",
   "version": "3.7.10"
  }
 },
 "nbformat": 4,
 "nbformat_minor": 5
}
